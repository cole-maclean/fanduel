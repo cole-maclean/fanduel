{
 "cells": [
  {
   "cell_type": "markdown",
   "metadata": {},
   "source": [
    "Fanduel development notebook"
   ]
  },
  {
   "cell_type": "code",
   "execution_count": 16,
   "metadata": {
    "collapsed": false
   },
   "outputs": [],
   "source": [
    "import sys\n",
    "sys.path.insert(0,\"C:\\\\Users\\\\Cole\\\\Desktop\\\\FanDuel\\\\fanduel\\\\modules\")"
   ]
  },
  {
   "cell_type": "markdown",
   "metadata": {},
   "source": [
    "database_operations playground"
   ]
  },
  {
   "cell_type": "code",
   "execution_count": 9,
   "metadata": {
    "collapsed": false
   },
   "outputs": [
    {
     "name": "stdout",
     "output_type": "stream",
     "text": [
      "0    {'max': 50, 'min': 50}\n",
      "1    {'max': 50, 'min': 50}\n",
      "2    {'max': 20, 'min': 20}\n",
      "3    {'max': 20, 'min': 20}\n",
      "4    {'max': 20, 'min': 20}\n",
      "5    {'max': 50, 'min': 50}\n",
      "Name: size, dtype: object\n"
     ]
    }
   ],
   "source": [
    "import database_operations as dbo\n",
    "reload(dbo)\n",
    "print dbo.read_from_db(\"SELECT * FROM fanduel_contests\")['size']"
   ]
  },
  {
   "cell_type": "markdown",
   "metadata": {
    "collapsed": true
   },
   "source": [
    "Sport Class Playground"
   ]
  },
  {
   "cell_type": "code",
   "execution_count": 47,
   "metadata": {
    "collapsed": false
   },
   "outputs": [
    {
     "name": "stdout",
     "output_type": "stream",
     "text": [
      "now building dataset for Joe Ross_pitcher\n",
      "    FD_points  FD_median        test\n",
      "0         6.0        NaN  2015-06-06\n",
      "1        18.0      12.00  2015-06-13\n",
      "2        21.1      19.55  2015-06-19\n",
      "3         8.1      14.60  2015-07-21\n",
      "4        10.0       9.05  2015-07-26\n",
      "5        10.1      10.05  2015-08-01\n",
      "6        16.0      13.05  2015-08-06\n",
      "7         0.2       8.10  2015-08-11\n",
      "8         6.0       3.10  2015-08-16\n",
      "9        14.0      10.00  2015-08-22\n",
      "10       17.0      15.50  2015-08-27\n",
      "11        2.2       9.60  2015-09-01\n"
     ]
    }
   ],
   "source": [
    "import Sport\n",
    "import features\n",
    "reload(features)\n",
    "reload(Sport)\n",
    "MLB=Sport.MLB()\n",
    "db_df = MLB.get_db_gamedata(\"Joe Ross\",\"pitcher\")\n",
    "model_ds = MLB.build_model_dataset(db_df)\n",
    "print model_ds"
   ]
  },
  {
   "cell_type": "code",
   "execution_count": null,
   "metadata": {
    "collapsed": true
   },
   "outputs": [],
   "source": []
  }
 ],
 "metadata": {
  "kernelspec": {
   "display_name": "Python 2",
   "language": "python",
   "name": "python2"
  },
  "language_info": {
   "codemirror_mode": {
    "name": "ipython",
    "version": 2
   },
   "file_extension": ".py",
   "mimetype": "text/x-python",
   "name": "python",
   "nbconvert_exporter": "python",
   "pygments_lexer": "ipython2",
   "version": "2.7.3"
  }
 },
 "nbformat": 4,
 "nbformat_minor": 0
}
