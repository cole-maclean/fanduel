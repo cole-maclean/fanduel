{
 "cells": [
  {
   "cell_type": "markdown",
   "metadata": {},
   "source": [
    "Fanduel development notebook"
   ]
  },
  {
   "cell_type": "code",
   "execution_count": 21,
   "metadata": {
    "collapsed": false
   },
   "outputs": [],
   "source": [
    "import sys\n",
    "sys.path.insert(0,\"C:\\\\Users\\\\Cole\\\\Desktop\\\\FanDuel\\\\fanduel\\\\modules\")"
   ]
  },
  {
   "cell_type": "code",
   "execution_count": 22,
   "metadata": {
    "collapsed": false
   },
   "outputs": [],
   "source": [
    "import FD_operations as fdo\n",
    "s, session_id = fdo.get_fanduel_session()"
   ]
  },
  {
   "cell_type": "code",
   "execution_count": 24,
   "metadata": {
    "collapsed": false
   },
   "outputs": [
    {
     "name": "stdout",
     "output_type": "stream",
     "text": [
      "[{u'status': {u'started': False, u'final': False}, u'sport': u'MLB', u'label': u'Main', u'players': {u'_url': u'https://api.fanduel.com/fixture-lists/12880/players'}, u'_url': u'https://api.fanduel.com/fixture-lists/12880', u'id': u'12880', u'salary_cap': 35000, u'contests': {u'open': {u'count': 1006, u'contest_types': [{u'_members': [u'LEAGUE'], u'count': 288, u'_ref': u'contest_types.id'}, {u'_members': [u'FIFTY_FIFTY'], u'count': 164, u'_ref': u'contest_types.id'}, {u'_members': [u'TOURNAMENT'], u'count': 24, u'_ref': u'contest_types.id'}, {u'_members': [u'H2H'], u'count': 457, u'_ref': u'contest_types.id'}, {u'_members': [u'MULTIPLIER'], u'count': 73, u'_ref': u'contest_types.id'}], u'_url': u'https://api.fanduel.com/contests?fixture_list=12880&status=open', u'pinned_count': 3}}, u'start_date': u'2015-08-31T23:05:00Z'}, {u'status': {u'started': False, u'final': False}, u'sport': u'MLB', u'label': u'Express', u'players': {u'_url': u'https://api.fanduel.com/fixture-lists/12881/players'}, u'_url': u'https://api.fanduel.com/fixture-lists/12881', u'id': u'12881', u'salary_cap': 35000, u'contests': {u'open': {u'count': 218, u'contest_types': [{u'_members': [u'LEAGUE'], u'count': 97, u'_ref': u'contest_types.id'}, {u'_members': [u'FIFTY_FIFTY'], u'count': 63, u'_ref': u'contest_types.id'}, {u'_members': [u'TOURNAMENT'], u'count': 5, u'_ref': u'contest_types.id'}, {u'_members': [u'H2H'], u'count': 48, u'_ref': u'contest_types.id'}, {u'_members': [u'MULTIPLIER'], u'count': 5, u'_ref': u'contest_types.id'}], u'_url': u'https://api.fanduel.com/contests?fixture_list=12881&status=open', u'pinned_count': 0}}, u'start_date': u'2015-09-01T00:05:00Z'}, {u'status': {u'started': False, u'final': False}, u'sport': u'MLB', u'label': u'Late Night', u'players': {u'_url': u'https://api.fanduel.com/fixture-lists/12882/players'}, u'_url': u'https://api.fanduel.com/fixture-lists/12882', u'id': u'12882', u'salary_cap': 35000, u'contests': {u'open': {u'count': 188, u'contest_types': [{u'_members': [u'LEAGUE'], u'count': 90, u'_ref': u'contest_types.id'}, {u'_members': [u'FIFTY_FIFTY'], u'count': 46, u'_ref': u'contest_types.id'}, {u'_members': [u'TOURNAMENT'], u'count': 6, u'_ref': u'contest_types.id'}, {u'_members': [u'H2H'], u'count': 37, u'_ref': u'contest_types.id'}, {u'_members': [u'MULTIPLIER'], u'count': 9, u'_ref': u'contest_types.id'}], u'_url': u'https://api.fanduel.com/contests?fixture_list=12882&status=open', u'pinned_count': 1}}, u'start_date': u'2015-09-01T02:05:00Z'}, {u'status': {u'started': False, u'final': False}, u'sport': u'CFB', u'label': u'Main', u'players': {u'_url': u'https://api.fanduel.com/fixture-lists/12826/players'}, u'_url': u'https://api.fanduel.com/fixture-lists/12826', u'id': u'12826', u'salary_cap': 45000, u'contests': {u'open': {u'count': 446, u'contest_types': [{u'_members': [u'LEAGUE'], u'count': 170, u'_ref': u'contest_types.id'}, {u'_members': [u'FIFTY_FIFTY'], u'count': 32, u'_ref': u'contest_types.id'}, {u'_members': [u'TOURNAMENT'], u'count': 13, u'_ref': u'contest_types.id'}, {u'_members': [u'H2H'], u'count': 199, u'_ref': u'contest_types.id'}, {u'_members': [u'MULTIPLIER'], u'count': 32, u'_ref': u'contest_types.id'}], u'_url': u'https://api.fanduel.com/contests?fixture_list=12826&status=open', u'pinned_count': 2}}, u'start_date': u'2015-09-03T22:00:00Z'}, {u'status': {u'started': False, u'final': False}, u'sport': u'NFL', u'label': None, u'players': {u'_url': u'https://api.fanduel.com/fixture-lists/12671/players'}, u'_url': u'https://api.fanduel.com/fixture-lists/12671', u'id': u'12671', u'salary_cap': 60000, u'contests': {u'open': {u'count': 1615, u'contest_types': [{u'_members': [u'LEAGUE'], u'count': 966, u'_ref': u'contest_types.id'}, {u'_members': [u'FIFTY_FIFTY'], u'count': 129, u'_ref': u'contest_types.id'}, {u'_members': [u'TOURNAMENT'], u'count': 16, u'_ref': u'contest_types.id'}, {u'_members': [u'H2H'], u'count': 499, u'_ref': u'contest_types.id'}, {u'_members': [u'MULTIPLIER'], u'count': 5, u'_ref': u'contest_types.id'}], u'_url': u'https://api.fanduel.com/contests?fixture_list=12671&status=open', u'pinned_count': 4}}, u'start_date': u'2015-09-13T17:00:00Z'}]\n",
      "{u'12882': u'https://api.fanduel.com/fixture-lists/12882/players', u'12880': u'https://api.fanduel.com/fixture-lists/12880/players', u'12881': u'https://api.fanduel.com/fixture-lists/12881/players'}\n"
     ]
    }
   ],
   "source": [
    "\n",
    "print fdo.fanduel_data(s,'https://api.fanduel.com/fixture-lists')[0]['fixture_lists']\n",
    "print fdo.get_daily_contests(s,\"MLB\")"
   ]
  },
  {
   "cell_type": "code",
   "execution_count": 25,
   "metadata": {
    "collapsed": false
   },
   "outputs": [
    {
     "name": "stdout",
     "output_type": "stream",
     "text": [
      "{u'size': {u'max': 6, u'min': 6}, u'max_entries_per_user': 1, u'type': {u'_members': [u'FIFTY_FIFTY'], u'_ref': u'contest_types.id'}, u'name': u'MLB 50/50 League', u'open_count': 1, u'restricted': False, u'guaranteed': False, u'pinned': False, u'prizes': {u'count': 3, u'total': 3000.0, u'summary': u'$3,000'}, u'_url': u'https://api.fanduel.com/contests/12880-14399547', u'entries': {u'count': 1, u'_url': u'https://api.fanduel.com/contests/12880-14399547/entries'}, u'user_created': False, u'h2h': None, u'entry_fee': 535.0, u'id': u'12880-14399547', u'entry_fee_fdp': 1284000}\n"
     ]
    }
   ],
   "source": [
    "contest_list = fdo.fanduel_data(s,\"https://api.fanduel.com/contests?fixture_list=12880\")[0]['contests'][0]\n",
    "print contest_list"
   ]
  },
  {
   "cell_type": "code",
   "execution_count": 43,
   "metadata": {
    "collapsed": false
   },
   "outputs": [
    {
     "name": "stdout",
     "output_type": "stream",
     "text": [
      "[{u'username': u'jgennaro29', u'id': u'2610242', u'_url': u'https://api.fanduel.com/users/2610242', u'avatar': u'https://s3.amazonaws.com/userfile.hubdub.com/vzt2wqmk1-gpr8l.jpg'}, {u'username': u'birdwings', u'id': u'125323', u'_url': u'https://api.fanduel.com/users/125323', u'avatar': u'https://s3.amazonaws.com/userfile.hubdub.com/qbetlln7u4jfecs.jpg'}, {u'username': u'wattsupp23', u'id': u'93060', u'_url': u'https://api.fanduel.com/users/93060', u'avatar': None}]\n"
     ]
    }
   ],
   "source": [
    "user_list = fdo.fanduel_data(s,\"https://api.fanduel.com/contests/12880-14389440/entries\")['users']\n",
    "print user_list"
   ]
  },
  {
   "cell_type": "code",
   "execution_count": 38,
   "metadata": {
    "collapsed": false
   },
   "outputs": [
    {
     "name": "stdout",
     "output_type": "stream",
     "text": [
      "[{u'username': u'jgennaro29', u'id': u'2610242', u'_url': u'https://api.fanduel.com/users/2610242', u'avatar': u'https://s3.amazonaws.com/userfile.hubdub.com/vzt2wqmk1-gpr8l.jpg'}, {u'username': u'birdwings', u'id': u'125323', u'_url': u'https://api.fanduel.com/users/125323', u'avatar': u'https://s3.amazonaws.com/userfile.hubdub.com/qbetlln7u4jfecs.jpg'}]\n",
      "{'MLB': [31, 57252], 'CBB': [0, 0], 'NHL': [0, 26851], 'NFL': [0, 26952], 'CFB': [0, 6619], 'NBA': [44, 54199], 'Total': [75, 171873]}\n"
     ]
    }
   ],
   "source": [
    "import data_scrapping as ds\n",
    "reload(ds)\n",
    "print ds.get_contest_userwins(user_list)"
   ]
  },
  {
   "cell_type": "code",
   "execution_count": 13,
   "metadata": {
    "collapsed": true
   },
   "outputs": [],
   "source": [
    "def sort_positions(sort_list):\n",
    "    print sort_list\n",
    "    return positions[sort_list['position']]"
   ]
  },
  {
   "cell_type": "code",
   "execution_count": 17,
   "metadata": {
    "collapsed": false
   },
   "outputs": [
    {
     "name": "stdout",
     "output_type": "stream",
     "text": [
      "{'position': u'OF', 'player': {'id': u'12572'}}\n",
      "{'position': u'2B', 'player': {'id': u'12925'}}\n",
      "{'position': u'1B', 'player': {'id': u'12940'}}\n",
      "{'position': u'C', 'player': {'id': u'5299'}}\n",
      "{'position': u'3B', 'player': {'id': u'52147'}}\n",
      "{'position': u'OF', 'player': {'id': u'5948'}}\n",
      "{'position': u'OF', 'player': {'id': u'5211'}}\n",
      "{'position': u'P', 'player': {'id': u'5615'}}\n",
      "{'position': u'SS', 'player': {'id': u'6319'}}\n",
      "[{\"position\": u\"P\", \"player\": {\"id\": u\"5615\"}}, {\"position\": u\"C\", \"player\": {\"id\": u\"5299\"}}, {\"position\": u\"1B\", \"player\": {\"id\": u\"12940\"}}, {\"position\": u\"2B\", \"player\": {\"id\": u\"12925\"}}, {\"position\": u\"3B\", \"player\": {\"id\": u\"52147\"}}, {\"position\": u\"SS\", \"player\": {\"id\": u\"6319\"}}, {\"position\": u\"OF\", \"player\": {\"id\": u\"12572\"}}, {\"position\": u\"OF\", \"player\": {\"id\": u\"5948\"}}, {\"position\": u\"OF\", \"player\": {\"id\": u\"5211\"}}]\n"
     ]
    }
   ],
   "source": [
    "positions = {'P':1,'C':2,'1B':3,'2B':4,'3B':5,'SS':6,'OF':7}\n",
    "lineup = [{'position':u'OF','player':{'id':u'12572'}},{'position':u'2B','player':{'id':u'12925'}},{'position':u'1B','player':{'id':u'12940'}},{'position':u'C','player':{'id':u'5299'}},{'position':u'3B','player':{'id':u'52147'}},{'position':u'OF','player':{'id':u'5948'}},{'position':u'OF','player':{'id':u'5211'}},{'position':u'P','player':{'id':u'5615'}},{'position':u'SS','player':{'id':u'6319'}}]\n",
    "sorted_roster = str(sorted(lineup, key=sort_positions)).replace(\"'\",'\"')\n",
    "print sorted_roster\n"
   ]
  },
  {
   "cell_type": "code",
   "execution_count": null,
   "metadata": {
    "collapsed": true
   },
   "outputs": [],
   "source": []
  }
 ],
 "metadata": {
  "kernelspec": {
   "display_name": "Python 2",
   "language": "python",
   "name": "python2"
  },
  "language_info": {
   "codemirror_mode": {
    "name": "ipython",
    "version": 2
   },
   "file_extension": ".py",
   "mimetype": "text/x-python",
   "name": "python",
   "nbconvert_exporter": "python",
   "pygments_lexer": "ipython2",
   "version": "2.7.3"
  }
 },
 "nbformat": 4,
 "nbformat_minor": 0
}
