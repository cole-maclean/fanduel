{
 "cells": [
  {
   "cell_type": "markdown",
   "metadata": {},
   "source": [
    "Fanduel development notebook"
   ]
  },
  {
   "cell_type": "code",
   "execution_count": 16,
   "metadata": {
    "collapsed": false
   },
   "outputs": [],
   "source": [
    "import sys\n",
    "sys.path.insert(0,\"C:\\\\Users\\\\Cole\\\\Desktop\\\\FanDuel\\\\fanduel\\\\modules\")"
   ]
  },
  {
   "cell_type": "markdown",
   "metadata": {},
   "source": [
    "database_operations playground"
   ]
  },
  {
   "cell_type": "code",
   "execution_count": 9,
   "metadata": {
    "collapsed": false
   },
   "outputs": [
    {
     "name": "stdout",
     "output_type": "stream",
     "text": [
      "0    {'max': 50, 'min': 50}\n",
      "1    {'max': 50, 'min': 50}\n",
      "2    {'max': 20, 'min': 20}\n",
      "3    {'max': 20, 'min': 20}\n",
      "4    {'max': 20, 'min': 20}\n",
      "5    {'max': 50, 'min': 50}\n",
      "Name: size, dtype: object\n"
     ]
    }
   ],
   "source": [
    "import database_operations as dbo\n",
    "reload(dbo)\n",
    "print dbo.read_from_db(\"SELECT * FROM fanduel_contests\")['size']"
   ]
  },
  {
   "cell_type": "markdown",
   "metadata": {
    "collapsed": true
   },
   "source": [
    "Sport Class Playground"
   ]
  },
  {
   "cell_type": "code",
   "execution_count": 44,
   "metadata": {
    "collapsed": false
   },
   "outputs": [
    {
     "name": "stdout",
     "output_type": "stream",
     "text": [
      "now building dataset for Joe Ross_pitcher\n",
      "0      6.0\n",
      "1     18.0\n",
      "2     21.1\n",
      "3      8.1\n",
      "4     10.0\n",
      "5     10.1\n",
      "6     16.0\n",
      "7      0.2\n",
      "8      6.0\n",
      "9     14.0\n",
      "10    17.0\n",
      "11     2.2\n",
      "Name: FD_points, dtype: float64\n",
      "0       NaN\n",
      "1     12.00\n",
      "2     19.55\n",
      "3     14.60\n",
      "4      9.05\n",
      "5     10.05\n",
      "6     13.05\n",
      "7      8.10\n",
      "8      3.10\n",
      "9     10.00\n",
      "10    15.50\n",
      "11     9.60\n",
      "Name: FD_median, dtype: float64\n"
     ]
    }
   ],
   "source": [
    "import Sport\n",
    "import features\n",
    "reload(features)\n",
    "reload(Sport)\n",
    "MLB=Sport.MLB()\n",
    "db_df = MLB.get_db_gamedata(\"Joe Ross\",\"pitcher\")\n",
    "model_ds = MLB.build_model_dataset(db_df)\n",
    "print model_ds"
   ]
  },
  {
   "cell_type": "code",
   "execution_count": null,
   "metadata": {
    "collapsed": true
   },
   "outputs": [],
   "source": []
  }
 ],
 "metadata": {
  "kernelspec": {
   "display_name": "Python 2",
   "language": "python",
   "name": "python2"
  },
  "language_info": {
   "codemirror_mode": {
    "name": "ipython",
    "version": 2
   },
   "file_extension": ".py",
   "mimetype": "text/x-python",
   "name": "python",
   "nbconvert_exporter": "python",
   "pygments_lexer": "ipython2",
   "version": "2.7.3"
  }
 },
 "nbformat": 4,
 "nbformat_minor": 0
}
